{
  "nbformat": 4,
  "nbformat_minor": 0,
  "metadata": {
    "colab": {
      "name": "QKD_BB84 [with and without eave].ipynb",
      "provenance": [],
      "collapsed_sections": []
    },
    "kernelspec": {
      "name": "python3",
      "display_name": "Python 3"
    },
    "language_info": {
      "name": "python"
    }
  },
  "cells": [
    {
      "cell_type": "code",
      "metadata": {
        "id": "zIsDtRztO8sE"
      },
      "source": [
        "def select_encoding_and_bases(length):\n",
        "    bitstring = \"\"\n",
        "    bases = \"\" \n",
        "    for i in range(length):\n",
        "        # We use the function getrandbits to get either a 0 or 1 randomly,\n",
        "        # The \"1\" in the function argument is the number of bits to be generated\n",
        "        bitstring += (str(getrandbits(1)))\n",
        "        # 0 means encode in the (0,1) basis and 1 means encode in the (+,-) basis\n",
        "        bases += (str(getrandbits(1)))\n",
        "    \n",
        "    # return the string of bits and the list of bases they should be encoded in\n",
        "    return bitstring, bases"
      ],
      "execution_count": 1,
      "outputs": []
    },
    {
      "cell_type": "code",
      "metadata": {
        "id": "dHP0Qd2MSX3J"
      },
      "source": [
        "def measure(bases, encoded_qubits, backend):\n",
        "    bitstring = ''\n",
        "    for i in range(len(encoded_qubits)):\n",
        "        qc = encoded_qubits[i]\n",
        "        \n",
        "        if bases[i] == \"0\":\n",
        "            # 0 means we want to measure in Z basis\n",
        "            qc.measure(0,0)\n",
        "\n",
        "        elif bases[i] == \"1\":\n",
        "            # 1 means we want to measure in X basis\n",
        "            qc.h(0)\n",
        "            qc.measure(0,0)\n",
        "        \n",
        "        # Now that the measurements have been added to the circuit, let's run them.\n",
        "        job = q.execute(qc, backend=backend, shots = 1) # increase shots if running on hardware\n",
        "        results = job.result()\n",
        "        counts = results.get_counts()\n",
        "        measured_bit = max(counts, key=counts.get)\n",
        "\n",
        "        # Append measured bit to Bob's measured bitstring\n",
        "        bitstring += measured_bit \n",
        "        \n",
        "    return bitstring"
      ],
      "execution_count": 2,
      "outputs": []
    },
    {
      "cell_type": "code",
      "metadata": {
        "id": "E5LV3w9uSblh"
      },
      "source": [
        "def encode(bitstring, bases):\n",
        "    encoded_qubits = []\n",
        "    for i in range(len(bitstring)):\n",
        "        # create a brand new quantum circuit called qc. Remember that the qubit will be in state |0> by default\n",
        "        qc = q.QuantumCircuit(1,1)\n",
        "\n",
        "        if bases[i] == \"0\":\n",
        "            # 0 Means we are encoding in the z basis\n",
        "            if bitstring[i] == \"0\":\n",
        "                # We want to encode a |0> state, as states are intialized\n",
        "                # in |0> by default we don't need to add anything here\n",
        "                pass\n",
        "            \n",
        "            elif bitstring[i] == \"1\":\n",
        "                # We want to encode a |1> state\n",
        "                # We apply an X gate to generate |1>\n",
        "                qc.x(0)\n",
        "                \n",
        "        elif bases[i] == \"1\":\n",
        "            # 1 Means we are encoding in the x basis\n",
        "            if bitstring[i] == \"0\":\n",
        "                # We apply an H gate to generate |+>\n",
        "                qc.h(0)\n",
        "            elif bitstring[i] == \"1\":\n",
        "                # We apply an X and an H gate to generate |->\n",
        "                qc.x(0)\n",
        "                qc.h(0)\n",
        "            \n",
        "        # add this quantum circuit to the list of encoded_qubits\n",
        "        encoded_qubits.append(qc)\n",
        "        \n",
        "    return encoded_qubits"
      ],
      "execution_count": 3,
      "outputs": []
    },
    {
      "cell_type": "code",
      "metadata": {
        "id": "RFv6G1eTSfPw"
      },
      "source": [
        "def bob_compare_bases(alices_bases, bobs_bases):\n",
        "    indices = []\n",
        "    \n",
        "    for i in range(len(alices_bases)):\n",
        "        if alices_bases[i] == bobs_bases[i]:\n",
        "            indices.append(i)\n",
        "    return indices"
      ],
      "execution_count": 4,
      "outputs": []
    },
    {
      "cell_type": "code",
      "metadata": {
        "id": "xlxFrZ4XSkC8"
      },
      "source": [
        "def construct_key_from_indices(bitstring, indices):\n",
        "    key = ''\n",
        "    for idx in indices:\n",
        "        # For the indices where bases match, the bitstring bit is added to the key\n",
        "        key = key + bitstring[idx] \n",
        "    return key"
      ],
      "execution_count": 5,
      "outputs": []
    },
    {
      "cell_type": "code",
      "metadata": {
        "colab": {
          "base_uri": "https://localhost:8080/"
        },
        "id": "72M3jF50SnLS",
        "outputId": "a5118284-ea96-416e-8624-d92e30393796"
      },
      "source": [
        "# QKD Algorithm with no evedropping¶\n",
        "\n",
        "!sudo pip install qiskit\n",
        "from random import getrandbits\n",
        "import qiskit as q"
      ],
      "execution_count": 7,
      "outputs": [
        {
          "output_type": "stream",
          "text": [
            "Collecting qiskit\n",
            "  Downloading https://files.pythonhosted.org/packages/73/9e/07552a6bf5636de7471947c2699e60a6d3681a29ebb72414572e57cdfb98/qiskit-0.25.1.tar.gz\n",
            "Collecting qiskit-terra==0.17.1\n",
            "\u001b[?25l  Downloading https://files.pythonhosted.org/packages/3b/4b/58f79398313098edc4b1d161bd93290e7b9af213545eab7073739a84d58b/qiskit_terra-0.17.1-cp37-cp37m-manylinux2010_x86_64.whl (6.0MB)\n",
            "\u001b[K     |████████████████████████████████| 6.0MB 7.3MB/s \n",
            "\u001b[?25hCollecting qiskit-aer==0.8.1\n",
            "\u001b[?25l  Downloading https://files.pythonhosted.org/packages/71/05/a1cb73a48a6e252fe0fdc18fbf08e7f8b7bfa714db512aa688790682b6c9/qiskit_aer-0.8.1-cp37-cp37m-manylinux2010_x86_64.whl (17.9MB)\n",
            "\u001b[K     |████████████████████████████████| 17.9MB 232kB/s \n",
            "\u001b[?25hCollecting qiskit-ibmq-provider==0.12.2\n",
            "\u001b[?25l  Downloading https://files.pythonhosted.org/packages/08/ac/69bb35892303c3a4a52eaaf7ea95431dd3f57963b580a011ee92693a7fcc/qiskit_ibmq_provider-0.12.2-py3-none-any.whl (198kB)\n",
            "\u001b[K     |████████████████████████████████| 204kB 54.9MB/s \n",
            "\u001b[?25hCollecting qiskit-ignis==0.6.0\n",
            "\u001b[?25l  Downloading https://files.pythonhosted.org/packages/54/be/a13c828e457e09d979667a61bddbd8c7246aafa94e2501b6a9154429cbea/qiskit_ignis-0.6.0-py3-none-any.whl (207kB)\n",
            "\u001b[K     |████████████████████████████████| 215kB 53.3MB/s \n",
            "\u001b[?25hCollecting qiskit-aqua==0.9.1\n",
            "\u001b[?25l  Downloading https://files.pythonhosted.org/packages/88/79/392c57b978decbb24b902344b536af52c40a751aed0ebbaefa8bc2964cb5/qiskit_aqua-0.9.1-py3-none-any.whl (2.1MB)\n",
            "\u001b[K     |████████████████████████████████| 2.1MB 50.7MB/s \n",
            "\u001b[?25hCollecting ply>=3.10\n",
            "\u001b[?25l  Downloading https://files.pythonhosted.org/packages/a3/58/35da89ee790598a0700ea49b2a66594140f44dec458c07e8e3d4979137fc/ply-3.11-py2.py3-none-any.whl (49kB)\n",
            "\u001b[K     |████████████████████████████████| 51kB 6.7MB/s \n",
            "\u001b[?25hCollecting retworkx>=0.8.0\n",
            "\u001b[?25l  Downloading https://files.pythonhosted.org/packages/1b/92/f007f8b9d88dcd5b90e363967e5d54431a68c5fe06d83400732e3b438084/retworkx-0.8.0-cp37-cp37m-manylinux2010_x86_64.whl (1.0MB)\n",
            "\u001b[K     |████████████████████████████████| 1.0MB 43.1MB/s \n",
            "\u001b[?25hRequirement already satisfied: jsonschema>=2.6 in /usr/local/lib/python3.7/dist-packages (from qiskit-terra==0.17.1->qiskit) (2.6.0)\n",
            "Requirement already satisfied: psutil>=5 in /usr/local/lib/python3.7/dist-packages (from qiskit-terra==0.17.1->qiskit) (5.4.8)\n",
            "Requirement already satisfied: sympy>=1.3 in /usr/local/lib/python3.7/dist-packages (from qiskit-terra==0.17.1->qiskit) (1.7.1)\n",
            "Collecting python-constraint>=1.4\n",
            "  Downloading https://files.pythonhosted.org/packages/37/8b/5f1bc2734ca611943e1d6733ee244238679f6410a10cd45ede55a61a8402/python-constraint-1.4.0.tar.bz2\n",
            "Collecting fastjsonschema>=2.10\n",
            "  Downloading https://files.pythonhosted.org/packages/89/1c/8be51fa42aadc1c1611a52b866e1a5a1032a504f24789cf140b4e6d7c940/fastjsonschema-2.15.0-py3-none-any.whl\n",
            "Requirement already satisfied: numpy>=1.17 in /usr/local/lib/python3.7/dist-packages (from qiskit-terra==0.17.1->qiskit) (1.19.5)\n",
            "Requirement already satisfied: scipy>=1.4 in /usr/local/lib/python3.7/dist-packages (from qiskit-terra==0.17.1->qiskit) (1.4.1)\n",
            "Requirement already satisfied: dill>=0.3 in /usr/local/lib/python3.7/dist-packages (from qiskit-terra==0.17.1->qiskit) (0.3.3)\n",
            "Requirement already satisfied: python-dateutil>=2.8.0 in /usr/local/lib/python3.7/dist-packages (from qiskit-terra==0.17.1->qiskit) (2.8.1)\n",
            "Collecting pybind11>=2.6\n",
            "\u001b[?25l  Downloading https://files.pythonhosted.org/packages/8d/43/7339dbabbc2793718d59703aace4166f53c29ee1c202f6ff5bf8a26c4d91/pybind11-2.6.2-py2.py3-none-any.whl (191kB)\n",
            "\u001b[K     |████████████████████████████████| 194kB 43.2MB/s \n",
            "\u001b[?25hRequirement already satisfied: nest-asyncio!=1.1.0,>=1.0.0 in /usr/local/lib/python3.7/dist-packages (from qiskit-ibmq-provider==0.12.2->qiskit) (1.5.1)\n",
            "Requirement already satisfied: requests>=2.19 in /usr/local/lib/python3.7/dist-packages (from qiskit-ibmq-provider==0.12.2->qiskit) (2.23.0)\n",
            "Collecting requests-ntlm>=1.1.0\n",
            "  Downloading https://files.pythonhosted.org/packages/03/4b/8b9a1afde8072c4d5710d9fa91433d504325821b038e00237dc8d6d833dc/requests_ntlm-1.1.0-py2.py3-none-any.whl\n",
            "Requirement already satisfied: urllib3>=1.21.1 in /usr/local/lib/python3.7/dist-packages (from qiskit-ibmq-provider==0.12.2->qiskit) (1.24.3)\n",
            "Collecting websockets>=8\n",
            "\u001b[?25l  Downloading https://files.pythonhosted.org/packages/5a/0b/3ebc752392a368af14dd24ee041683416ac6d2463eead94b311b11e41c82/websockets-8.1-cp37-cp37m-manylinux2010_x86_64.whl (79kB)\n",
            "\u001b[K     |████████████████████████████████| 81kB 9.6MB/s \n",
            "\u001b[?25hRequirement already satisfied: setuptools>=40.1.0 in /usr/local/lib/python3.7/dist-packages (from qiskit-ignis==0.6.0->qiskit) (54.2.0)\n",
            "Collecting dlx<=1.0.4\n",
            "  Downloading https://files.pythonhosted.org/packages/54/c0/b8fb5bb727e983b6f5251433ef941b48f38c65bb0bd6ec509e9185bcd406/dlx-1.0.4.tar.gz\n",
            "Collecting docplex<=2.20.204; sys_platform != \"darwin\"\n",
            "\u001b[?25l  Downloading https://files.pythonhosted.org/packages/87/99/6f7c219b39fd58c84688ad0713eb932bfcf6be81fc74519e43ea9c915b56/docplex-2.20.204.tar.gz (611kB)\n",
            "\u001b[K     |████████████████████████████████| 614kB 40.4MB/s \n",
            "\u001b[?25hCollecting quandl<=3.6.0\n",
            "  Downloading https://files.pythonhosted.org/packages/c2/58/9f0e69d836045e3865d263e9ed49f42b23a58526fdabb30f74c430baee3f/Quandl-3.6.0-py2.py3-none-any.whl\n",
            "Requirement already satisfied: h5py<=3.1.0 in /usr/local/lib/python3.7/dist-packages (from qiskit-aqua==0.9.1->qiskit) (2.10.0)\n",
            "Requirement already satisfied: scikit-learn<=0.24.1,>=0.20.0 in /usr/local/lib/python3.7/dist-packages (from qiskit-aqua==0.9.1->qiskit) (0.22.2.post1)\n",
            "Requirement already satisfied: pandas<=1.2.3 in /usr/local/lib/python3.7/dist-packages (from qiskit-aqua==0.9.1->qiskit) (1.1.5)\n",
            "Requirement already satisfied: fastdtw<=0.3.4 in /usr/local/lib/python3.7/dist-packages (from qiskit-aqua==0.9.1->qiskit) (0.3.4)\n",
            "Collecting yfinance<=0.1.55\n",
            "  Downloading https://files.pythonhosted.org/packages/7a/e8/b9d7104d3a4bf39924799067592d9e59119fcfc900a425a12e80a3123ec8/yfinance-0.1.55.tar.gz\n",
            "Requirement already satisfied: mpmath>=0.19 in /usr/local/lib/python3.7/dist-packages (from sympy>=1.3->qiskit-terra==0.17.1->qiskit) (1.2.1)\n",
            "Requirement already satisfied: six>=1.5 in /usr/local/lib/python3.7/dist-packages (from python-dateutil>=2.8.0->qiskit-terra==0.17.1->qiskit) (1.15.0)\n",
            "Requirement already satisfied: idna<3,>=2.5 in /usr/local/lib/python3.7/dist-packages (from requests>=2.19->qiskit-ibmq-provider==0.12.2->qiskit) (2.10)\n",
            "Requirement already satisfied: chardet<4,>=3.0.2 in /usr/local/lib/python3.7/dist-packages (from requests>=2.19->qiskit-ibmq-provider==0.12.2->qiskit) (3.0.4)\n",
            "Requirement already satisfied: certifi>=2017.4.17 in /usr/local/lib/python3.7/dist-packages (from requests>=2.19->qiskit-ibmq-provider==0.12.2->qiskit) (2020.12.5)\n",
            "Collecting cryptography>=1.3\n",
            "\u001b[?25l  Downloading https://files.pythonhosted.org/packages/b2/26/7af637e6a7e87258b963f1731c5982fb31cd507f0d90d91836e446955d02/cryptography-3.4.7-cp36-abi3-manylinux2014_x86_64.whl (3.2MB)\n",
            "\u001b[K     |████████████████████████████████| 3.2MB 49.7MB/s \n",
            "\u001b[?25hCollecting ntlm-auth>=1.0.2\n",
            "  Downloading https://files.pythonhosted.org/packages/ff/84/97c550164b54942b0e908c31ef09d9469f3ba4cd7332a671e2125732f63b/ntlm_auth-1.5.0-py2.py3-none-any.whl\n",
            "Requirement already satisfied: more-itertools in /usr/local/lib/python3.7/dist-packages (from quandl<=3.6.0->qiskit-aqua==0.9.1->qiskit) (8.7.0)\n",
            "Collecting inflection>=0.3.1\n",
            "  Downloading https://files.pythonhosted.org/packages/59/91/aa6bde563e0085a02a435aa99b49ef75b0a4b062635e606dab23ce18d720/inflection-0.5.1-py2.py3-none-any.whl\n",
            "Requirement already satisfied: joblib>=0.11 in /usr/local/lib/python3.7/dist-packages (from scikit-learn<=0.24.1,>=0.20.0->qiskit-aqua==0.9.1->qiskit) (1.0.1)\n",
            "Requirement already satisfied: pytz>=2017.2 in /usr/local/lib/python3.7/dist-packages (from pandas<=1.2.3->qiskit-aqua==0.9.1->qiskit) (2018.9)\n",
            "Requirement already satisfied: multitasking>=0.0.7 in /usr/local/lib/python3.7/dist-packages (from yfinance<=0.1.55->qiskit-aqua==0.9.1->qiskit) (0.0.9)\n",
            "Collecting lxml>=4.5.1\n",
            "\u001b[?25l  Downloading https://files.pythonhosted.org/packages/cf/4d/6537313bf58fe22b508f08cf3eb86b29b6f9edf68e00454224539421073b/lxml-4.6.3-cp37-cp37m-manylinux1_x86_64.whl (5.5MB)\n",
            "\u001b[K     |████████████████████████████████| 5.5MB 48.3MB/s \n",
            "\u001b[?25hRequirement already satisfied: cffi>=1.12 in /usr/local/lib/python3.7/dist-packages (from cryptography>=1.3->requests-ntlm>=1.1.0->qiskit-ibmq-provider==0.12.2->qiskit) (1.14.5)\n",
            "Requirement already satisfied: pycparser in /usr/local/lib/python3.7/dist-packages (from cffi>=1.12->cryptography>=1.3->requests-ntlm>=1.1.0->qiskit-ibmq-provider==0.12.2->qiskit) (2.20)\n",
            "Building wheels for collected packages: qiskit, python-constraint, dlx, docplex, yfinance\n",
            "  Building wheel for qiskit (setup.py) ... \u001b[?25l\u001b[?25hdone\n",
            "  Created wheel for qiskit: filename=qiskit-0.25.1-cp37-none-any.whl size=3064 sha256=25c827c404cb712aaebb8efaf6b26feb6a76a6c5a4991a884d07c6bdf9cc62fd\n",
            "  Stored in directory: /root/.cache/pip/wheels/e2/00/23/7328e187ec5202e637b2fb6b2a0c68029758c90abded1eee60\n",
            "  Building wheel for python-constraint (setup.py) ... \u001b[?25l\u001b[?25hdone\n",
            "  Created wheel for python-constraint: filename=python_constraint-1.4.0-py2.py3-none-any.whl size=24079 sha256=1e78bbd513ae059c4ce10ade63a0d74f8d3e9b0e143cc11dd7a40d1dde0cf844\n",
            "  Stored in directory: /root/.cache/pip/wheels/34/31/15/7b070b25d0a549d20ce2e9fe6d727471c2c61ef904720fd40c\n",
            "  Building wheel for dlx (setup.py) ... \u001b[?25l\u001b[?25hdone\n",
            "  Created wheel for dlx: filename=dlx-1.0.4-cp37-none-any.whl size=5712 sha256=e2fd7e37322428d223b03e4e81af7af12631d3bb92ed67c29710b8ce97458712\n",
            "  Stored in directory: /root/.cache/pip/wheels/bb/ba/15/fdd0deb104df3254912998150ba9245668db06b00af5912d1a\n",
            "  Building wheel for docplex (setup.py) ... \u001b[?25l\u001b[?25hdone\n",
            "  Created wheel for docplex: filename=docplex-2.20.204-cp37-none-any.whl size=675362 sha256=e9c94a90b716fd3a6fe6ae6a5d899a5dd91ec0e46b24ae3e799d91df3b472dc5\n",
            "  Stored in directory: /root/.cache/pip/wheels/ae/2c/e2/a099ebb6fda8adeba9c5fc2e25659d195ad2f5c6cc5fb75fd4\n",
            "  Building wheel for yfinance (setup.py) ... \u001b[?25l\u001b[?25hdone\n",
            "  Created wheel for yfinance: filename=yfinance-0.1.55-py2.py3-none-any.whl size=22616 sha256=99313846d6db97be1e69aa21ec45af191c66d855df8676be11ff6e3173a99b76\n",
            "  Stored in directory: /root/.cache/pip/wheels/04/98/cc/2702a4242d60bdc14f48b4557c427ded1fe92aedf257d4565c\n",
            "Successfully built qiskit python-constraint dlx docplex yfinance\n",
            "Installing collected packages: ply, retworkx, python-constraint, fastjsonschema, qiskit-terra, pybind11, qiskit-aer, cryptography, ntlm-auth, requests-ntlm, websockets, qiskit-ibmq-provider, qiskit-ignis, dlx, docplex, inflection, quandl, lxml, yfinance, qiskit-aqua, qiskit\n",
            "  Found existing installation: lxml 4.2.6\n",
            "    Uninstalling lxml-4.2.6:\n",
            "      Successfully uninstalled lxml-4.2.6\n",
            "Successfully installed cryptography-3.4.7 dlx-1.0.4 docplex-2.20.204 fastjsonschema-2.15.0 inflection-0.5.1 lxml-4.6.3 ntlm-auth-1.5.0 ply-3.11 pybind11-2.6.2 python-constraint-1.4.0 qiskit-0.25.1 qiskit-aer-0.8.1 qiskit-aqua-0.9.1 qiskit-ibmq-provider-0.12.2 qiskit-ignis-0.6.0 qiskit-terra-0.17.1 quandl-3.6.0 requests-ntlm-1.1.0 retworkx-0.8.0 websockets-8.1 yfinance-0.1.55\n"
          ],
          "name": "stdout"
        }
      ]
    },
    {
      "cell_type": "code",
      "metadata": {
        "id": "gSCVZP9vSpS2"
      },
      "source": [
        "sim_backend = q.Aer.get_backend('qasm_simulator')"
      ],
      "execution_count": 8,
      "outputs": []
    },
    {
      "cell_type": "code",
      "metadata": {
        "id": "YfHy1wF0SwhT"
      },
      "source": [
        "KEY_LENGTH = 500\n",
        "QUANTUM_CHANNEL = []\n",
        "CLASSICAL_CHANNEL = []"
      ],
      "execution_count": 9,
      "outputs": []
    },
    {
      "cell_type": "code",
      "metadata": {
        "colab": {
          "base_uri": "https://localhost:8080/"
        },
        "id": "NSdF8BcFSyUh",
        "outputId": "922f3495-1ea3-4423-dfff-44d86a655a6c"
      },
      "source": [
        "alice_bitstring, alice_bases = select_encoding_and_bases(KEY_LENGTH)\n",
        "_ , bob_bases = select_encoding_and_bases(KEY_LENGTH)\n",
        "\n",
        " \n",
        "# Preview the first 10 elements of each:\n",
        "print(\"Alice randomly generated bitstring: \", alice_bitstring[:10])\n",
        "print(\"Alice randomly generated bases: \", alice_bases[:10])\n",
        "\n",
        "print(\"Bob randomly generated bases: \", bob_bases[:10])"
      ],
      "execution_count": 10,
      "outputs": [
        {
          "output_type": "stream",
          "text": [
            "Alice randomly generated bitstring:  1111000011\n",
            "Alice randomly generated bases:  0010101000\n",
            "Bob randomly generated bases:  0010000000\n"
          ],
          "name": "stdout"
        }
      ]
    },
    {
      "cell_type": "code",
      "metadata": {
        "id": "5PHRIsb6S0mG"
      },
      "source": [
        "encoded_qubits = encode(alice_bitstring, alice_bases)\n",
        "QUANTUM_CHANNEL = encoded_qubits"
      ],
      "execution_count": 11,
      "outputs": []
    },
    {
      "cell_type": "code",
      "metadata": {
        "colab": {
          "base_uri": "https://localhost:8080/"
        },
        "id": "_8ZKRsPQS3Lb",
        "outputId": "af82f8a1-d0c6-45a8-fe97-dc1e9f517f41"
      },
      "source": [
        "bob_bitstring = measure(bob_bases, QUANTUM_CHANNEL, sim_backend)\n",
        "print(\"Bit string at bob's end generated\")"
      ],
      "execution_count": 12,
      "outputs": [
        {
          "output_type": "stream",
          "text": [
            "Bit string at bob's end generated\n"
          ],
          "name": "stdout"
        }
      ]
    },
    {
      "cell_type": "code",
      "metadata": {
        "id": "kccmDt1WS5oG"
      },
      "source": [
        "CLASSICAL_CHANNEL = alice_bases\n"
      ],
      "execution_count": 13,
      "outputs": []
    },
    {
      "cell_type": "code",
      "metadata": {
        "id": "4VBCNPWES9CT"
      },
      "source": [
        "agreeing_bases = bob_compare_bases(CLASSICAL_CHANNEL, bob_bases)\n"
      ],
      "execution_count": 14,
      "outputs": []
    },
    {
      "cell_type": "code",
      "metadata": {
        "id": "a_brPnaYS-nQ"
      },
      "source": [
        "CLASSICAL_CHANNEL = agreeing_bases\n"
      ],
      "execution_count": 15,
      "outputs": []
    },
    {
      "cell_type": "code",
      "metadata": {
        "colab": {
          "base_uri": "https://localhost:8080/"
        },
        "id": "OzSPsvutTAjS",
        "outputId": "01590c8e-cb01-4f44-f252-42fa0c76e118"
      },
      "source": [
        "alice_key = construct_key_from_indices(alice_bitstring, CLASSICAL_CHANNEL)\n",
        "bob_key = construct_key_from_indices(bob_bitstring, agreeing_bases)\n",
        "\n",
        "# Preview the first 10 elements of each Key:\n",
        "print(\"alice_key: \", alice_key[:10])\n",
        "print(\"bob_key:   \", bob_key[:10])\n",
        "print(\"Alice's key is equal to Bob's key: \", alice_key == bob_key)\n",
        "if(not(alice_key == bob_key)):\n",
        "    print(\"Thus, this Quantum channel is not safe for data transfer\")\n",
        "elif(alice_key == bob_key):\n",
        "    print(\"Thus, this Quantum channel is safe for data transfer\")"
      ],
      "execution_count": 16,
      "outputs": [
        {
          "output_type": "stream",
          "text": [
            "alice_key:  1111001110\n",
            "bob_key:    1111001110\n",
            "Alice's key is equal to Bob's key:  True\n",
            "Thus, this Quantum channel is safe for data transfer\n"
          ],
          "name": "stdout"
        }
      ]
    },
    {
      "cell_type": "code",
      "metadata": {
        "id": "wvUL72HHTCcM"
      },
      "source": [
        "# QKD Algorithm with evedropping by Eve¶\n",
        "\n",
        "KEY_LENGTH = 500\n",
        "QUANTUM_CHANNEL = []\n",
        "CLASSICAL_CHANNEL = []"
      ],
      "execution_count": 17,
      "outputs": []
    },
    {
      "cell_type": "code",
      "metadata": {
        "colab": {
          "base_uri": "https://localhost:8080/"
        },
        "id": "8MvILojDT6cJ",
        "outputId": "7321fe09-f832-4d9f-ca9a-db5db0910022"
      },
      "source": [
        "alice_bitstring, alice_bases = select_encoding_and_bases(KEY_LENGTH)\n",
        "_ , bob_bases = select_encoding_and_bases(KEY_LENGTH)\n",
        "_ , eve_bases = select_encoding_and_bases(KEY_LENGTH)\n",
        "\n",
        "# Preview the first 10 elements of each:\n",
        "print(\"Alice randomly generated bitstring: \", alice_bitstring[:10])\n",
        "print(\"Alice randomly generated bases: \", alice_bases[:10])\n",
        "\n",
        "print(\"Eve randomly generated bases: \", bob_bases[:10])\n",
        "\n",
        "print(\"Bob randomly generated bases: \", eve_bases[:10])"
      ],
      "execution_count": 18,
      "outputs": [
        {
          "output_type": "stream",
          "text": [
            "Alice randomly generated bitstring:  0001100001\n",
            "Alice randomly generated bases:  0110100010\n",
            "Eve randomly generated bases:  0110101101\n",
            "Bob randomly generated bases:  1111011010\n"
          ],
          "name": "stdout"
        }
      ]
    },
    {
      "cell_type": "code",
      "metadata": {
        "id": "ZpMxL02XT9wQ"
      },
      "source": [
        "encoded_qubits = encode(alice_bitstring, alice_bases)\n",
        "QUANTUM_CHANNEL = encoded_qubits"
      ],
      "execution_count": 19,
      "outputs": []
    },
    {
      "cell_type": "code",
      "metadata": {
        "colab": {
          "base_uri": "https://localhost:8080/"
        },
        "id": "WYmDOAORT_nM",
        "outputId": "eaa89abd-bf85-413f-f5e8-1cadb4c4e93c"
      },
      "source": [
        "eve_bitstring = measure(eve_bases, QUANTUM_CHANNEL, sim_backend)\n",
        "encoded_qubits = encode(eve_bitstring, eve_bases)\n",
        "QUANTUM_CHANNEL = encoded_qubits\n",
        "print(\"Quantum information is measure and encoded by Eve\")"
      ],
      "execution_count": 20,
      "outputs": [
        {
          "output_type": "stream",
          "text": [
            "Quantum information is measure and encoded by Eve\n"
          ],
          "name": "stdout"
        }
      ]
    },
    {
      "cell_type": "code",
      "metadata": {
        "colab": {
          "base_uri": "https://localhost:8080/"
        },
        "id": "QiLHNLPPUBSk",
        "outputId": "1f674d82-722f-4a6c-fc72-4e8ba781ec97"
      },
      "source": [
        "bob_bitstring = measure(bob_bases, QUANTUM_CHANNEL, sim_backend)\n",
        "print(\"Bit string at bob's end generated\")"
      ],
      "execution_count": 21,
      "outputs": [
        {
          "output_type": "stream",
          "text": [
            "Bit string at bob's end generated\n"
          ],
          "name": "stdout"
        }
      ]
    },
    {
      "cell_type": "code",
      "metadata": {
        "id": "JzDdrVIkUDJA"
      },
      "source": [
        "CLASSICAL_CHANNEL = alice_bases\n"
      ],
      "execution_count": 22,
      "outputs": []
    },
    {
      "cell_type": "code",
      "metadata": {
        "id": "qyhPX1NoUEcS"
      },
      "source": [
        "agreeing_bases = bob_compare_bases(CLASSICAL_CHANNEL, bob_bases)\n"
      ],
      "execution_count": 23,
      "outputs": []
    },
    {
      "cell_type": "code",
      "metadata": {
        "id": "g0TQMRXNUGIr"
      },
      "source": [
        "CLASSICAL_CHANNEL = agreeing_bases\n"
      ],
      "execution_count": 24,
      "outputs": []
    },
    {
      "cell_type": "code",
      "metadata": {
        "colab": {
          "base_uri": "https://localhost:8080/"
        },
        "id": "VsKQSH0vUHd2",
        "outputId": "d8832eb5-0280-434d-b009-ab0c9cf3822f"
      },
      "source": [
        "alice_key = construct_key_from_indices(alice_bitstring, CLASSICAL_CHANNEL)\n",
        "bob_key = construct_key_from_indices(bob_bitstring, agreeing_bases)\n",
        "\n",
        "# Preview the first 10 elements of each Key:\n",
        "print(\"alice_key: \", alice_key[:10])\n",
        "print(\"bob_key: \", bob_key[:10])\n",
        "print(\"Alice's key is equal to Bob's key: \", alice_key == bob_key)\n",
        "if(not(alice_key == bob_key)):\n",
        "    print(\"Thus, this Quantum channel is not safe for data transfer\")\n",
        "elif(alice_key == bob_key):\n",
        "    print(\"Thus, this Quantum channel is safe for data transfer\")"
      ],
      "execution_count": 25,
      "outputs": [
        {
          "output_type": "stream",
          "text": [
            "alice_key:  0001101010\n",
            "bob_key:  1000111001\n",
            "Alice's key is equal to Bob's key:  False\n",
            "Thus, this Quantum channel is not safe for data transfer\n"
          ],
          "name": "stdout"
        }
      ]
    },
    {
      "cell_type": "code",
      "metadata": {
        "id": "o6E52ZFtUJA5"
      },
      "source": [
        ""
      ],
      "execution_count": null,
      "outputs": []
    }
  ]
}